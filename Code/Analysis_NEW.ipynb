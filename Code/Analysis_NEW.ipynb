{
 "cells": [
  {
   "cell_type": "code",
   "execution_count": null,
   "id": "0c71f06d-c0c6-473c-86d4-cc91a694f4bb",
   "metadata": {
    "id": "0c71f06d-c0c6-473c-86d4-cc91a694f4bb",
    "tags": []
   },
   "outputs": [],
   "source": [
    "import numpy as np\n",
    "import pandas as pd\n",
    "import seaborn as sns\n",
    "import matplotlib.pyplot as plt\n",
    "from itertools import product"
   ]
  },
  {
   "cell_type": "code",
   "execution_count": null,
   "id": "d1408cef-a569-42b0-81e3-f21255d40ffc",
   "metadata": {
    "id": "d1408cef-a569-42b0-81e3-f21255d40ffc"
   },
   "outputs": [],
   "source": [
    "data = pd.read_csv('PandaReach-v3_robot_data.csv')\n",
    "data = data.query('Task_name != \"CustomReachEnv0\"')\n",
    "data.head(10)"
   ]
  },
  {
   "cell_type": "markdown",
   "id": "ceba4704-05a1-4576-aedd-2d8b054e6f34",
   "metadata": {
    "id": "ceba4704-05a1-4576-aedd-2d8b054e6f34"
   },
   "source": [
    "# Define functions"
   ]
  },
  {
   "cell_type": "code",
   "execution_count": null,
   "id": "6ac044c5-a298-45b8-9df7-d1b59d8569b0",
   "metadata": {
    "id": "6ac044c5-a298-45b8-9df7-d1b59d8569b0"
   },
   "outputs": [],
   "source": [
    "def extract_interventions(game, divide=[]):\n",
    "    groups = ['Elapsed_time']\n",
    "    groups += divide\n",
    "    game.loc[game['Type_of_intervention'] == 'None', 'Type_of_intervention'] = np.nan\n",
    "    interventions = game.groupby(groups)['Type_of_intervention'].value_counts(dropna=False).to_frame(name='no').reset_index()\n",
    "    interventions.loc[interventions['Type_of_intervention'].isna(), 'no'] = 0\n",
    "    interventions.loc[interventions['Type_of_intervention'] == 'demonstration', 'no'] = 1\n",
    "    interventions.loc[interventions['Type_of_intervention'] == 'feedback', 'no'] = (interventions.loc[interventions['Type_of_intervention'] == 'feedback', 'no']/5).apply(np.ceil)\n",
    "    intereventions_plot = interventions.groupby(groups)['no'].sum().to_frame().reset_index()\n",
    "    return intereventions_plot"
   ]
  },
  {
   "cell_type": "code",
   "execution_count": null,
   "id": "ce6100da-34c8-4ace-9e08-eee686ed44e1",
   "metadata": {
    "id": "ce6100da-34c8-4ace-9e08-eee686ed44e1"
   },
   "outputs": [],
   "source": [
    "def state_heatmap(game):\n",
    "    state_no = list(range(2, 18))\n",
    "    states = product(state_no, state_no, state_no)\n",
    "    hm = pd.DataFrame(states, columns=['x', 'y', 'z'])\n",
    "    hm['feedback'] = 0\n",
    "    hm['demo'] = 0\n",
    "    for t, s in enumerate(game.State):\n",
    "        x, y, z = [ int(i) for i in s.split(',')]\n",
    "        e = hm.eval('x == @x and y == @y and z == @z')\n",
    "        if game.loc[t, 'Type_of_intervention'] == 'feedback':\n",
    "            hm.loc[e, 'feedback'] += 1\n",
    "\n",
    "        if game.loc[t, 'Type_of_intervention'] == 'demonstration':\n",
    "            hm.loc[e, 'demo'] += 1\n",
    "    return hm"
   ]
  },
  {
   "cell_type": "markdown",
   "id": "1e4c13a2-6938-4f7b-96f1-b3cbad3af42f",
   "metadata": {
    "id": "1e4c13a2-6938-4f7b-96f1-b3cbad3af42f"
   },
   "source": [
    "# Analysis"
   ]
  },
  {
   "cell_type": "code",
   "execution_count": null,
   "id": "f3828145-53a1-4832-a0ac-1d4b88325d76",
   "metadata": {
    "id": "f3828145-53a1-4832-a0ac-1d4b88325d76"
   },
   "outputs": [],
   "source": [
    "data = data.reset_index()"
   ]
  },
  {
   "cell_type": "code",
   "execution_count": null,
   "id": "e5488b71-27eb-4b41-a0f0-3b732e2ebfd6",
   "metadata": {
    "id": "e5488b71-27eb-4b41-a0f0-3b732e2ebfd6"
   },
   "outputs": [],
   "source": [
    "hm = state_heatmap(data)"
   ]
  },
  {
   "cell_type": "code",
   "execution_count": null,
   "id": "021e4f99-ba32-4968-aa90-875f29c59456",
   "metadata": {
    "id": "021e4f99-ba32-4968-aa90-875f29c59456"
   },
   "outputs": [],
   "source": [
    "hf = hm.groupby(['x', 'y'])['feedback'].sum().to_frame().reset_index()\n",
    "hd = hm.groupby(['x', 'y'])['demo'].sum().to_frame().reset_index()"
   ]
  },
  {
   "cell_type": "code",
   "execution_count": null,
   "id": "19d8ffe3-e08d-4e97-bda7-5e2010d04153",
   "metadata": {
    "id": "19d8ffe3-e08d-4e97-bda7-5e2010d04153"
   },
   "outputs": [],
   "source": [
    "\n",
    "   \n",
    "   hf = hf.pivot(index='x', columns='y', values='feedback')\n",
    "hd = hd.pivot(index='x', columns='y', values='demo')"
   ]
  },
  {
   "cell_type": "code",
   "execution_count": null,
   "id": "160ca549-54bc-4c56-bded-3c50a725f24c",
   "metadata": {
    "id": "160ca549-54bc-4c56-bded-3c50a725f24c"
   },
   "outputs": [],
   "source": [
    "plt.figure(figsize=(12, 12))\n",
    "sns.heatmap(hf, annot=True, cmap='viridis', fmt='g')"
   ]
  },
  {
   "cell_type": "code",
   "execution_count": null,
   "id": "ec9f0429-1c35-4d5c-9a0e-685436e880a0",
   "metadata": {
    "id": "ec9f0429-1c35-4d5c-9a0e-685436e880a0"
   },
   "outputs": [],
   "source": [
    "plt.figure(figsize=(12, 12))\n",
    "sns.heatmap(hd, annot=True, cmap='viridis', fmt='g')"
   ]
  },
  {
   "cell_type": "code",
   "execution_count": null,
   "id": "593dbc8e-a140-46ca-a421-ea3bc95d50d6",
   "metadata": {
    "id": "593dbc8e-a140-46ca-a421-ea3bc95d50d6"
   },
   "outputs": [],
   "source": [
    "divide = ['Task_name']\n",
    "int_per_elapsed_time = extract_interventions(data, divide=divide)"
   ]
  },
  {
   "cell_type": "code",
   "execution_count": null,
   "id": "6d4d62c0",
   "metadata": {
    "id": "c7269767-6bb4-4cff-85c7-e87b51e02705"
   },
   "outputs": [],
   "source": [
    "plt.figure(figsize=(10, 5))\n",
    "sns.lineplot(data=int_per_elapsed_time, x='Elapsed_time', y='no', hue='Task_name')\n",
    "int_per_elapsed_time.iloc[int_per_elapsed_time.no.argmax()]"
   ]
  },
  {
   "cell_type": "markdown",
   "id": "c5299e60",
   "metadata": {},
   "source": [
    "# Questionnaire"
   ]
  },
  {
   "cell_type": "code",
   "execution_count": null,
   "id": "9f1eafa5",
   "metadata": {},
   "outputs": [],
   "source": [
    "quest_data = pd.read_csv(\"Robot learning from rich feedback_edit2.csv\")"
   ]
  },
  {
   "cell_type": "code",
   "execution_count": null,
   "id": "BSPbv3Y0Ee-X",
   "metadata": {
    "id": "BSPbv3Y0Ee-X"
   },
   "outputs": [],
   "source": [
    "quest_data.head(10)"
   ]
  },
  {
   "cell_type": "markdown",
   "id": "s689aW2SBps6",
   "metadata": {
    "id": "s689aW2SBps6"
   },
   "source": [
    "**Distribution of Genders by Age**"
   ]
  },
  {
   "cell_type": "code",
   "execution_count": null,
   "id": "g66l0OyN-x9H",
   "metadata": {
    "colab": {
     "base_uri": "https://localhost:8080/",
     "height": 475
    },
    "id": "g66l0OyN-x9H",
    "outputId": "cee23c03-4710-4da2-fe19-0255ff32b381"
   },
   "outputs": [],
   "source": [
    "age_gender_group = quest_data.groupby(['Age', 'Gender']).size().unstack()\n",
    "age_gender_group.plot(kind='bar', stacked=False, width=1)\n",
    "plt.xlabel('Age')\n",
    "plt.ylabel('Count')\n",
    "plt.title('Distribution of Genders by Age')\n",
    "plt.legend(title='Gender')\n",
    "plt.show()"
   ]
  },
  {
   "cell_type": "markdown",
   "id": "Ux_73PKzLjMz",
   "metadata": {
    "id": "Ux_73PKzLjMz"
   },
   "source": [
    "**Pet Ownership and Training in profession**"
   ]
  },
  {
   "cell_type": "code",
   "execution_count": null,
   "id": "d4Y-Gq3YBLAk",
   "metadata": {
    "id": "d4Y-Gq3YBLAk"
   },
   "outputs": [],
   "source": [
    "teaching_intuitive = 'I found the teaching process intuitive to me and it was easy to follow'\n",
    "demo_situations = 'In which situations did you decide to provide Demonstrations?'\n",
    "demo_intuitive = 'I found it intuitive provide Demonstrations.'\n",
    "feedback_situations = 'In which situations did you decide to provide Evaluative Feedback?'\n",
    "feedback_intuitive = 'I found it intuitive provide Evaluative Feedback.'\n",
    "starting_positions_selection = 'How did you choose the starting positions of the agent (robotic arm)?'\n",
    "robot_learning_effectiveness = 'The robotic arm learned effectively from my teaching inputs.'\n",
    "teacher_performance = 'On a scale from 1-10 how would you rate your performance as a teacher?'\n",
    "own_robotic_arm = 'Imagine you own a robotic arm, would you prefer to either personally teach it to perform and assist with everyday tasks, customizing its actions based on your preferences and needs, or have it pre-trained to assist with specific everyday tasks, ready to use right away without requiring personal teaching?'\n",
    "demo_communication = 'To provide Demonstrations to a robotic arm, which way would you prefer to communicate with it?'\n",
    "feedback_communication = 'To provide Evaluative Feedback to a robotic arm, which way would you prefer to communicate with it?'\n",
    "age = 'Age'\n",
    "gender = 'Gender'\n",
    "education_level = 'What is the highest degree or level of school you have completed? If currently enrolled, highest degree received.'\n",
    "pet = 'Have you ever owned a pet?'\n",
    "profession_teaching = 'To what extent does your profession involve teaching or training other people?'\n",
    "programming_experience = 'To what extent do you have experience with programming?'\n",
    "video_games_experience = 'To what extent do you have experience playing video games?'"
   ]
  },
  {
   "cell_type": "code",
   "execution_count": null,
   "id": "u6cPAsOrwKgM",
   "metadata": {
    "id": "u6cPAsOrwKgM"
   },
   "outputs": [],
   "source": [
    "sns.set(style=\"whitegrid\")"
   ]
  },
  {
   "cell_type": "code",
   "execution_count": null,
   "id": "C83ENrJiKpEO",
   "metadata": {
    "colab": {
     "base_uri": "https://localhost:8080/",
     "height": 480
    },
    "id": "C83ENrJiKpEO",
    "outputId": "34296291-cec2-4214-9ac5-565599a73b0b"
   },
   "outputs": [],
   "source": [
    "pet_training_group = quest_data.groupby([profession_teaching, pet]).size().unstack()\n",
    "pet_training_group.plot(kind='bar')\n",
    "plt.xlabel('Training')\n",
    "plt.ylabel('Count')\n",
    "plt.title('Relationship between Pet Ownership and Training Level')\n",
    "plt.xticks(rotation=0)\n",
    "plt.legend(title='Pet Ownership', labels=['Yes', 'No'])\n",
    "plt.show()"
   ]
  },
  {
   "cell_type": "code",
   "execution_count": null,
   "id": "bvwihTHjLqob",
   "metadata": {
    "colab": {
     "base_uri": "https://localhost:8080/",
     "height": 568
    },
    "id": "bvwihTHjLqob",
    "outputId": "f9c5ec02-7ad8-498f-ada8-de3b28f700aa"
   },
   "outputs": [],
   "source": [
    "#BAR PLOT\n",
    "plt.figure(figsize=(10, 6))\n",
    "palette = {'Male': 'blue', 'Female': 'pink', 'Non binary': 'orange'}\n",
    "sns.scatterplot(data=quest_data, x=education_level, y=age, hue=gender, palette=palette, s=100, alpha=0.5)\n",
    "plt.xlabel('Education Level')\n",
    "plt.ylabel('Age')\n",
    "plt.xticks(rotation=0, size=7)\n",
    "plt.title('Relationship between Age, Gender, and Education Level')\n",
    "plt.legend(title='Gender')\n",
    "plt.show()"
   ]
  },
  {
   "cell_type": "code",
   "execution_count": null,
   "id": "Vl_WNX6hOTCn",
   "metadata": {
    "colab": {
     "base_uri": "https://localhost:8080/",
     "height": 502
    },
    "id": "Vl_WNX6hOTCn",
    "outputId": "4cd37670-3bd2-4438-9c5a-64d1d78c3e93"
   },
   "outputs": [],
   "source": [
    "plt.figure(figsize=(10, 6))\n",
    "age_education_group = quest_data.groupby([age, education_level]).size().unstack()\n",
    "age_education_group.plot(kind='bar', stacked=False, width=1)\n",
    "plt.xlabel('Age')\n",
    "plt.ylabel('Count')\n",
    "plt.title('Distribution of Educational level by Age')\n",
    "plt.legend(title='Educational Level')\n",
    "plt.show()"
   ]
  },
  {
   "cell_type": "code",
   "execution_count": null,
   "id": "p_pdZeB2tJUx",
   "metadata": {
    "colab": {
     "base_uri": "https://localhost:8080/",
     "height": 573
    },
    "id": "p_pdZeB2tJUx",
    "outputId": "6dc5cd08-3bfc-494f-a8f0-f4f0c020c48d"
   },
   "outputs": [],
   "source": [
    "plt.figure(figsize=(10, 6))\n",
    "sns.boxplot(data=quest_data, x=age, y=teaching_intuitive, palette='Set1')\n",
    "plt.xlabel('Age Group')\n",
    "plt.ylabel('Teaching Intuitiveness')\n",
    "plt.title('Teaching Intuitiveness by Age Group')\n",
    "plt.show()"
   ]
  },
  {
   "cell_type": "code",
   "execution_count": null,
   "id": "B86wTxGUtc94",
   "metadata": {
    "colab": {
     "base_uri": "https://localhost:8080/",
     "height": 573
    },
    "id": "B86wTxGUtc94",
    "outputId": "9dd0f9f3-f40d-41df-fb1e-b478b9957bd1"
   },
   "outputs": [],
   "source": [
    "plt.figure(figsize=(10, 6))\n",
    "sns.countplot(data=quest_data, x=gender, hue=pet, palette='Set2')\n",
    "plt.xlabel('Gender')\n",
    "plt.ylabel('Count')\n",
    "plt.title('Gender and Pet Ownership')\n",
    "plt.legend(title='Pet Ownership', loc='upper right')\n",
    "plt.show()"
   ]
  },
  {
   "cell_type": "code",
   "execution_count": null,
   "id": "vFm2u1MXtkkc",
   "metadata": {
    "colab": {
     "base_uri": "https://localhost:8080/",
     "height": 568
    },
    "id": "vFm2u1MXtkkc",
    "outputId": "81626bf6-2a82-4201-a4dd-380e192d3e31"
   },
   "outputs": [],
   "source": [
    "plt.figure(figsize=(10, 6))\n",
    "sns.barplot(data=quest_data, x=education_level, y=robot_learning_effectiveness, palette='Pastel1')\n",
    "plt.xlabel('Education Level')\n",
    "plt.ylabel('Robot Learning Effectiveness')\n",
    "plt.title('Robot Learning Effectiveness by Education Level')\n",
    "plt.xticks(size=7)\n",
    "plt.show()"
   ]
  },
  {
   "cell_type": "code",
   "execution_count": null,
   "id": "cdc9ee77",
   "metadata": {
    "colab": {
     "base_uri": "https://localhost:8080/",
     "height": 610
    },
    "id": "pbeVfOgHuA2_",
    "outputId": "1e839afe-6739-4a1c-8c92-14f3e6f10721"
   },
   "outputs": [],
   "source": [
    "plt.figure(figsize=(10, 6))\n",
    "sns.histplot(data=quest_data, x=programming_experience, hue=age, multiple='stack', palette='Set3')\n",
    "plt.xlabel('Programming Experience')\n",
    "plt.ylabel('Count')\n",
    "plt.title('Programming Experience by Age Group')\n",
    "# plt.legend(title='Age Group')\n",
    "plt.show()"
   ]
  },
  {
   "cell_type": "markdown",
   "id": "46869db4",
   "metadata": {},
   "source": [
    "# ROBOT & QUESTIONNAIRE"
   ]
  },
  {
   "cell_type": "code",
   "execution_count": null,
   "id": "d2f84d7f",
   "metadata": {},
   "outputs": [],
   "source": [
    "user_data = pd.read_csv(\"PandaReach-v3_user_data.csv\")\n",
    "user_data = user_data.query('Task_name != \"CustomReachEnv0\"')\n",
    "user_data.head(10)"
   ]
  },
  {
   "cell_type": "code",
   "execution_count": null,
   "id": "86dfb690-86ca-4fb6-b44e-5f002d28c74b",
   "metadata": {},
   "outputs": [],
   "source": [
    "user_data_done_time = user_data_done_time.set_index('Participant_id')"
   ]
  },
  {
   "cell_type": "code",
   "execution_count": null,
   "id": "8d15430d",
   "metadata": {},
   "outputs": [],
   "source": [
    "user_data['total_interactions'] = user_data.Demonstrations_used + user_data.Feedback_used\n",
    "user_data.head(10)"
   ]
  },
  {
   "cell_type": "code",
   "execution_count": null,
   "id": "8a47b768",
   "metadata": {},
   "outputs": [],
   "source": [
    "mean_interactions_participant = user_data.groupby('Participant_id').total_interactions.mean().to_frame().reset_index()"
   ]
  },
  {
   "cell_type": "code",
   "execution_count": null,
   "id": "41b7762f",
   "metadata": {},
   "outputs": [],
   "source": [
    "total_interactions_participant = user_data.groupby('Participant_id').total_interactions.sum().to_frame().reset_index()"
   ]
  },
  {
   "cell_type": "code",
   "execution_count": null,
   "id": "20e60587",
   "metadata": {},
   "outputs": [],
   "source": [
    "total_completed_participant = user_data.groupby('Participant_id').Description.value_counts()"
   ]
  },
  {
   "cell_type": "code",
   "execution_count": null,
   "id": "175706fb",
   "metadata": {},
   "outputs": [],
   "source": [
    "mean_elapsed_time_participant = user_data.groupby('Participant_id').Elapsed_time.mean().to_frame().reset_index()"
   ]
  },
  {
   "cell_type": "code",
   "execution_count": null,
   "id": "92988622",
   "metadata": {},
   "outputs": [],
   "source": [
    "total_elapsed_time_participant = user_data.groupby('Participant_id').Elapsed_time.sum().to_frame().reset_index()"
   ]
  },
  {
   "cell_type": "code",
   "execution_count": null,
   "id": "039b2cfd",
   "metadata": {
    "tags": []
   },
   "outputs": [],
   "source": [
    "total_elapsed_time_participant"
   ]
  },
  {
   "cell_type": "code",
   "execution_count": null,
   "id": "62ffeb30-dc0f-4c22-8f6e-a2f951f9fa96",
   "metadata": {
    "tags": []
   },
   "outputs": [],
   "source": [
    "user_data_done_time = user_data.groupby(['Participant_id'])['Description'].value_counts().to_frame(name='value')\n",
    "done = user_data_done_time.query('Description == \"Done\"')\n",
    "time = user_data_done_time.query('Description == \"Time\"')\n",
    "user_data_done_time['Done'] = done.value\n",
    "user_data_done_time['Time'] = time.value\n",
    "user_data_done_time = user_data_done_time.reset_index()\n",
    "user_data_done_time = user_data_done_time.drop(['Description', 'value'], axis = 1)\n",
    "user_data_done_time = user_data_done_time.groupby('Participant_id').agg({\n",
    "    'Done': 'first',  # Take the first non-NaN value for 'Done'\n",
    "    'Time': 'first'   # Take the first non-NaN value for 'Time'\n",
    "}).reset_index()"
   ]
  },
  {
   "cell_type": "code",
   "execution_count": null,
   "id": "f76a1dd0-c6dc-4329-9db5-6a55e45d3d76",
   "metadata": {
    "tags": []
   },
   "outputs": [],
   "source": [
    "user_data_done_time['Teacher'] = user_data_done_time.Done >= user_data_done_time.Time\n",
    "user_data_done_time.Teacher = user_data_done_time.Teacher.map({True: 'Good', False: 'Bad'})"
   ]
  },
  {
   "cell_type": "code",
   "execution_count": null,
   "id": "4c23f929-41eb-43d1-aeca-2962a981e81a",
   "metadata": {
    "tags": []
   },
   "outputs": [],
   "source": [
    "quest_data = quest_data.set_index('Participant Number')"
   ]
  },
  {
   "cell_type": "code",
   "execution_count": null,
   "id": "8db7d3ce-2839-493f-9791-7373e0839b84",
   "metadata": {
    "tags": []
   },
   "outputs": [],
   "source": [
    "quest_data['Teacher'] = user_data_done_time.Teacher"
   ]
  },
  {
   "cell_type": "code",
   "execution_count": null,
   "id": "6d04128f",
   "metadata": {},
   "outputs": [],
   "source": [
    "quest_data['mean_interactions'] = mean_interactions_participant.total_interactions\n",
    "quest_data['total_interactions'] = total_interactions_participant.total_interactions\n",
    "quest_data['mean_elapsed_time'] = mean_elapsed_time_participant.Elapsed_time\n",
    "quest_data['total_elapsed_time'] = total_elapsed_time_participant.Elapsed_time"
   ]
  },
  {
   "cell_type": "code",
   "execution_count": null,
   "id": "d22ec840-b73a-4f90-95bd-5d76306f8aeb",
   "metadata": {},
   "outputs": [],
   "source": []
  },
  {
   "cell_type": "markdown",
   "id": "2ac86fd6",
   "metadata": {},
   "source": [
    "# MEAN INTERACTION - Robot Learning Effectiveness"
   ]
  },
  {
   "cell_type": "code",
   "execution_count": null,
   "id": "57db3a3c",
   "metadata": {},
   "outputs": [],
   "source": [
    "plt.figure(figsize=(10,6))\n",
    "sns.barplot(data=quest_data, x=robot_learning_effectiveness, y='mean_interactions', palette='Pastel1')\n",
    "plt.xlabel('Robot Learning Effectiveness')\n",
    "plt.ylabel('Mean Interactions')\n",
    "plt.title('Robot Learning Effectiveness by Mean Interactions')\n",
    "plt.xticks(size=7)\n",
    "plt.show()"
   ]
  },
  {
   "cell_type": "markdown",
   "id": "bbe00f45",
   "metadata": {},
   "source": [
    "# ELAPSED TIME - AGE"
   ]
  },
  {
   "cell_type": "code",
   "execution_count": null,
   "id": "e3084605",
   "metadata": {},
   "outputs": [],
   "source": [
    "plt.figure(figsize=(10,6))\n",
    "sns.barplot(data=quest_data, x=age, y='mean_elapsed_time')\n",
    "plt.xlabel('Age')\n",
    "plt.ylabel('Mean Elapsed Time')\n",
    "plt.title('Age by Mean Elapsed Time')\n",
    "plt.xticks(size=7)\n",
    "plt.show()"
   ]
  },
  {
   "cell_type": "markdown",
   "id": "434573a3",
   "metadata": {},
   "source": [
    "# ELAPSED TIME - Programming Experience"
   ]
  },
  {
   "cell_type": "code",
   "execution_count": null,
   "id": "28813a4d",
   "metadata": {},
   "outputs": [],
   "source": [
    "plt.figure(figsize=(10,6))\n",
    "sns.barplot(data=quest_data, x=programming_experience, y='mean_elapsed_time')\n",
    "plt.xlabel('Programming Experience')\n",
    "plt.ylabel('Mean Elapsed Time')\n",
    "plt.title('Programming Experience by Mean Elapsed Time')\n",
    "plt.xticks(size=7)\n",
    "plt.show()"
   ]
  },
  {
   "cell_type": "markdown",
   "id": "d20f0fd9",
   "metadata": {},
   "source": [
    "# ELAPSED TIME - Video Games Experience"
   ]
  },
  {
   "cell_type": "code",
   "execution_count": null,
   "id": "5661a0a4",
   "metadata": {},
   "outputs": [],
   "source": [
    "plt.figure(figsize=(10,6))\n",
    "sns.barplot(data=quest_data, x=video_games_experience, y='mean_elapsed_time')\n",
    "plt.xlabel('Video Games Experience')\n",
    "plt.ylabel('Mean Elapsed Time')\n",
    "plt.title('Video Games Experience by Mean Elapsed Time')\n",
    "plt.xticks(size=7)\n",
    "plt.show()"
   ]
  },
  {
   "cell_type": "markdown",
   "id": "49f32d89",
   "metadata": {},
   "source": [
    "# Mean Interactions - Pet"
   ]
  },
  {
   "cell_type": "code",
   "execution_count": null,
   "id": "d5943dc7",
   "metadata": {},
   "outputs": [],
   "source": [
    "plt.figure(figsize=(10,6))\n",
    "sns.barplot(data=quest_data, x=pet, y='mean_interactions')\n",
    "plt.xlabel('Owning a pet')\n",
    "plt.ylabel('Mean Interactions')\n",
    "plt.title('Owning a pet by Mean Interactions')\n",
    "plt.xticks(size=7)\n",
    "plt.show()"
   ]
  },
  {
   "cell_type": "markdown",
   "id": "dcdcd341",
   "metadata": {},
   "source": [
    "# Personally teach it - Mean Interactions"
   ]
  },
  {
   "cell_type": "code",
   "execution_count": null,
   "id": "3dd5d8d9",
   "metadata": {},
   "outputs": [],
   "source": [
    "plt.figure(figsize=(10,6))\n",
    "sns.barplot(data=quest_data, x=own_robotic_arm, y='mean_interactions')\n",
    "plt.xlabel('Owning a robotic arm')\n",
    "plt.ylabel('Mean Interactions')\n",
    "plt.title('Owning a robotic arm by Mean Interactions')\n",
    "plt.xticks(size=7)\n",
    "plt.show()"
   ]
  },
  {
   "cell_type": "markdown",
   "id": "b52e66c8",
   "metadata": {},
   "source": [
    "# Training - Mean Interactions"
   ]
  },
  {
   "cell_type": "code",
   "execution_count": null,
   "id": "66adebc6",
   "metadata": {},
   "outputs": [],
   "source": [
    "plt.figure(figsize=(10,6))\n",
    "sns.barplot(data=quest_data, x=profession_teaching, y='mean_interactions')\n",
    "plt.xlabel('Profession Teaching')\n",
    "plt.ylabel('Mean Interactions')\n",
    "plt.title('Profession Teaching by Mean Interactions')\n",
    "plt.xticks(size=7)\n",
    "plt.show()"
   ]
  },
  {
   "cell_type": "code",
   "execution_count": null,
   "id": "f964479f",
   "metadata": {},
   "outputs": [],
   "source": [
    "quest_data[profession_teaching].value_counts()"
   ]
  },
  {
   "cell_type": "markdown",
   "id": "672e3e63",
   "metadata": {},
   "source": [
    "# Age - Mean Interactions"
   ]
  },
  {
   "cell_type": "code",
   "execution_count": null,
   "id": "f40ea7da",
   "metadata": {},
   "outputs": [],
   "source": [
    "age_quantiles = pd.qcut(quest_data[age], q=5, duplicates='drop')"
   ]
  },
  {
   "cell_type": "code",
   "execution_count": null,
   "id": "45732c48",
   "metadata": {},
   "outputs": [],
   "source": [
    "plt.figure(figsize=(10,6))\n",
    "sns.barplot(data=quest_data, x=age_quantiles, y='mean_interactions')\n",
    "plt.xlabel('Age')\n",
    "plt.ylabel('Mean Interactions')\n",
    "plt.title('Age by Mean Interactions')\n",
    "plt.xticks(size=7)\n",
    "plt.show()"
   ]
  },
  {
   "cell_type": "code",
   "execution_count": null,
   "id": "ebc0cae9",
   "metadata": {},
   "outputs": [],
   "source": [
    "age_quantiles.value_counts()"
   ]
  },
  {
   "cell_type": "markdown",
   "id": "67efcaff-dfc0-4d32-bf74-38da0fa673d7",
   "metadata": {},
   "source": [
    "# **GENERAL STUFF**"
   ]
  },
  {
   "cell_type": "code",
   "execution_count": null,
   "id": "147defe9-2284-4537-893f-ca794aa5a38e",
   "metadata": {
    "tags": []
   },
   "outputs": [],
   "source": [
    "plt.figure(figsize=(10,6))\n",
    "sns.barplot(data=quest_data, x='Teacher', y=teacher_performance, palette='Pastel1')\n",
    "plt.xlabel('Good / Bad Teacher')\n",
    "plt.ylabel('How good of a teacher did they thought they were')\n",
    "plt.title('Robot Learning Effectiveness by Mean Interactions')\n",
    "plt.xticks(size=7)\n",
    "plt.show()"
   ]
  },
  {
   "cell_type": "code",
   "execution_count": null,
   "id": "14c9451c-8065-4bac-ac43-6574f3af2815",
   "metadata": {
    "tags": []
   },
   "outputs": [],
   "source": [
    "plt.figure(figsize=(10,6))\n",
    "sns.barplot(data=quest_data, x='Teacher', y='mean_interactions')\n",
    "plt.xlabel('Good / Bad Teacher')\n",
    "plt.ylabel('Mean Interactions')\n",
    "plt.title('Good / Bad Teacher by Mean Interactions')\n",
    "plt.xticks(size=7)\n",
    "plt.show()"
   ]
  },
  {
   "cell_type": "code",
   "execution_count": null,
   "id": "d0473560-3cab-4f7b-bcc8-a1f43c7d9946",
   "metadata": {
    "tags": []
   },
   "outputs": [],
   "source": [
    "plt.figure(figsize=(10,6))\n",
    "sns.barplot(data=quest_data, x='Teacher', y='mean_elapsed_time')\n",
    "plt.xlabel('Good / Bad Teacher')\n",
    "plt.ylabel('Mean Elapsed Time')\n",
    "plt.title('Good / Bad Teacher by Mean Elapsed Time')\n",
    "plt.xticks(size=7)\n",
    "plt.show()"
   ]
  },
  {
   "cell_type": "code",
   "execution_count": null,
   "id": "c2b92def-878f-4c24-87ec-a4b080836ba2",
   "metadata": {
    "tags": []
   },
   "outputs": [],
   "source": [
    "plt.figure(figsize=(10,6))\n",
    "sns.barplot(data=quest_data, x=starting_positions_selection, y='mean_elapsed_time')\n",
    "plt.xlabel('Good / Bad Teacher')\n",
    "plt.ylabel('Mean Elapsed Time')\n",
    "plt.title('Good / Bad Teacher by Mean Elapsed Time')\n",
    "plt.xticks(size=7)\n",
    "plt.show()"
   ]
  },
  {
   "cell_type": "code",
   "execution_count": null,
   "id": "6c4b5388-6c22-4c65-9ae1-14d755dbd078",
   "metadata": {
    "tags": []
   },
   "outputs": [],
   "source": [
    "quest_data.Teacher.value_counts()"
   ]
  },
  {
   "cell_type": "code",
   "execution_count": null,
   "id": "cd416e57-a47e-4ebd-9ef3-55a570b0c9eb",
   "metadata": {
    "tags": []
   },
   "outputs": [],
   "source": [
    "quest_data.groupby('Teacher')[starting_positions_selection].value_counts().plot(kind='bar')"
   ]
  },
  {
   "cell_type": "code",
   "execution_count": null,
   "id": "e3406c29-e6db-4208-8cbf-b6a6d13bf08a",
   "metadata": {
    "tags": []
   },
   "outputs": [],
   "source": [
    "plt.figure(figsize=(10,6))\n",
    "sns.barplot(data=quest_data, x='Teacher', y=age)\n",
    "plt.xlabel('Good / Bad Teacher')\n",
    "plt.ylabel('Age')\n",
    "plt.title('Good / Bad Teacher by Age')\n",
    "plt.xticks(size=7)\n",
    "plt.show()"
   ]
  },
  {
   "cell_type": "code",
   "execution_count": 160,
   "id": "0cffc9dc-cc9e-4e06-a7fb-2ce19e590e94",
   "metadata": {
    "tags": []
   },
   "outputs": [
    {
     "data": {
      "text/html": [
       "<div>\n",
       "<style scoped>\n",
       "    .dataframe tbody tr th:only-of-type {\n",
       "        vertical-align: middle;\n",
       "    }\n",
       "\n",
       "    .dataframe tbody tr th {\n",
       "        vertical-align: top;\n",
       "    }\n",
       "\n",
       "    .dataframe thead th {\n",
       "        text-align: right;\n",
       "    }\n",
       "</style>\n",
       "<table border=\"1\" class=\"dataframe\">\n",
       "  <thead>\n",
       "    <tr style=\"text-align: right;\">\n",
       "      <th></th>\n",
       "      <th>index</th>\n",
       "      <th>Participant_id</th>\n",
       "      <th>Game_name</th>\n",
       "      <th>Task_name</th>\n",
       "      <th>Game_num</th>\n",
       "      <th>Starting_position</th>\n",
       "      <th>Timestamp</th>\n",
       "      <th>Time_step</th>\n",
       "      <th>Elapsed_time</th>\n",
       "      <th>Type_of_intervention</th>\n",
       "      <th>Human_feedback</th>\n",
       "      <th>State</th>\n",
       "      <th>Action</th>\n",
       "      <th>Reward</th>\n",
       "      <th>Q(s,a)</th>\n",
       "      <th>Advantage</th>\n",
       "    </tr>\n",
       "  </thead>\n",
       "  <tbody>\n",
       "    <tr>\n",
       "      <th>587</th>\n",
       "      <td>2097</td>\n",
       "      <td>1</td>\n",
       "      <td>PandaReach-v3</td>\n",
       "      <td>CustomReachEnv1</td>\n",
       "      <td>2.0</td>\n",
       "      <td>10,8,11</td>\n",
       "      <td>2023-08-07 22:59:08.256295</td>\n",
       "      <td>676.0</td>\n",
       "      <td>58.0</td>\n",
       "      <td>demonstration</td>\n",
       "      <td>none</td>\n",
       "      <td>9,4,9</td>\n",
       "      <td>4.0</td>\n",
       "      <td>-1.0</td>\n",
       "      <td>-0.548281</td>\n",
       "      <td>1.548281</td>\n",
       "    </tr>\n",
       "    <tr>\n",
       "      <th>588</th>\n",
       "      <td>2098</td>\n",
       "      <td>1</td>\n",
       "      <td>PandaReach-v3</td>\n",
       "      <td>CustomReachEnv1</td>\n",
       "      <td>2.0</td>\n",
       "      <td>10,8,11</td>\n",
       "      <td>2023-08-07 22:59:08.761404</td>\n",
       "      <td>689.0</td>\n",
       "      <td>59.0</td>\n",
       "      <td>demonstration</td>\n",
       "      <td>none</td>\n",
       "      <td>10,5,9</td>\n",
       "      <td>4.0</td>\n",
       "      <td>-1.0</td>\n",
       "      <td>-0.857825</td>\n",
       "      <td>1.857825</td>\n",
       "    </tr>\n",
       "    <tr>\n",
       "      <th>589</th>\n",
       "      <td>2099</td>\n",
       "      <td>1</td>\n",
       "      <td>PandaReach-v3</td>\n",
       "      <td>CustomReachEnv1</td>\n",
       "      <td>2.0</td>\n",
       "      <td>10,8,11</td>\n",
       "      <td>2023-08-07 22:59:09.039373</td>\n",
       "      <td>696.0</td>\n",
       "      <td>59.0</td>\n",
       "      <td>demonstration</td>\n",
       "      <td>none</td>\n",
       "      <td>10,5,9</td>\n",
       "      <td>4.0</td>\n",
       "      <td>-1.0</td>\n",
       "      <td>-0.528912</td>\n",
       "      <td>1.528912</td>\n",
       "    </tr>\n",
       "    <tr>\n",
       "      <th>590</th>\n",
       "      <td>2100</td>\n",
       "      <td>1</td>\n",
       "      <td>PandaReach-v3</td>\n",
       "      <td>CustomReachEnv1</td>\n",
       "      <td>2.0</td>\n",
       "      <td>10,8,11</td>\n",
       "      <td>2023-08-07 22:59:09.661600</td>\n",
       "      <td>712.0</td>\n",
       "      <td>59.0</td>\n",
       "      <td>demonstration</td>\n",
       "      <td>none</td>\n",
       "      <td>10,5,9</td>\n",
       "      <td>4.0</td>\n",
       "      <td>-1.0</td>\n",
       "      <td>-0.364456</td>\n",
       "      <td>1.364456</td>\n",
       "    </tr>\n",
       "    <tr>\n",
       "      <th>591</th>\n",
       "      <td>2101</td>\n",
       "      <td>1</td>\n",
       "      <td>PandaReach-v3</td>\n",
       "      <td>CustomReachEnv1</td>\n",
       "      <td>2.0</td>\n",
       "      <td>10,8,11</td>\n",
       "      <td>2023-08-07 22:59:10.840359</td>\n",
       "      <td>742.0</td>\n",
       "      <td>61.0</td>\n",
       "      <td>demonstration</td>\n",
       "      <td>none</td>\n",
       "      <td>10,5,9</td>\n",
       "      <td>1.0</td>\n",
       "      <td>-1.0</td>\n",
       "      <td>-1.489954</td>\n",
       "      <td>1.125498</td>\n",
       "    </tr>\n",
       "    <tr>\n",
       "      <th>...</th>\n",
       "      <td>...</td>\n",
       "      <td>...</td>\n",
       "      <td>...</td>\n",
       "      <td>...</td>\n",
       "      <td>...</td>\n",
       "      <td>...</td>\n",
       "      <td>...</td>\n",
       "      <td>...</td>\n",
       "      <td>...</td>\n",
       "      <td>...</td>\n",
       "      <td>...</td>\n",
       "      <td>...</td>\n",
       "      <td>...</td>\n",
       "      <td>...</td>\n",
       "      <td>...</td>\n",
       "      <td>...</td>\n",
       "    </tr>\n",
       "    <tr>\n",
       "      <th>127941</th>\n",
       "      <td>148843</td>\n",
       "      <td>38</td>\n",
       "      <td>PandaReach-v3</td>\n",
       "      <td>CustomReachEnv3</td>\n",
       "      <td>1.0</td>\n",
       "      <td>6,10,10</td>\n",
       "      <td>2023-08-10 16:29:54.273715</td>\n",
       "      <td>2037.0</td>\n",
       "      <td>146.0</td>\n",
       "      <td>demonstration</td>\n",
       "      <td>none</td>\n",
       "      <td>8,9,11</td>\n",
       "      <td>1.0</td>\n",
       "      <td>-0.5</td>\n",
       "      <td>0.350000</td>\n",
       "      <td>0.650000</td>\n",
       "    </tr>\n",
       "    <tr>\n",
       "      <th>127942</th>\n",
       "      <td>148844</td>\n",
       "      <td>38</td>\n",
       "      <td>PandaReach-v3</td>\n",
       "      <td>CustomReachEnv3</td>\n",
       "      <td>1.0</td>\n",
       "      <td>6,10,10</td>\n",
       "      <td>2023-08-10 16:29:54.728281</td>\n",
       "      <td>2045.0</td>\n",
       "      <td>146.0</td>\n",
       "      <td>demonstration</td>\n",
       "      <td>none</td>\n",
       "      <td>8,9,11</td>\n",
       "      <td>1.0</td>\n",
       "      <td>-0.5</td>\n",
       "      <td>0.325000</td>\n",
       "      <td>0.675000</td>\n",
       "    </tr>\n",
       "    <tr>\n",
       "      <th>127943</th>\n",
       "      <td>148845</td>\n",
       "      <td>38</td>\n",
       "      <td>PandaReach-v3</td>\n",
       "      <td>CustomReachEnv3</td>\n",
       "      <td>1.0</td>\n",
       "      <td>6,10,10</td>\n",
       "      <td>2023-08-10 16:30:01.513622</td>\n",
       "      <td>2158.0</td>\n",
       "      <td>153.0</td>\n",
       "      <td>demonstration</td>\n",
       "      <td>none</td>\n",
       "      <td>9,9,11</td>\n",
       "      <td>2.0</td>\n",
       "      <td>-0.5</td>\n",
       "      <td>0.650000</td>\n",
       "      <td>0.350000</td>\n",
       "    </tr>\n",
       "    <tr>\n",
       "      <th>127944</th>\n",
       "      <td>148846</td>\n",
       "      <td>38</td>\n",
       "      <td>PandaReach-v3</td>\n",
       "      <td>CustomReachEnv3</td>\n",
       "      <td>1.0</td>\n",
       "      <td>6,10,10</td>\n",
       "      <td>2023-08-10 16:30:01.819464</td>\n",
       "      <td>2163.0</td>\n",
       "      <td>153.0</td>\n",
       "      <td>demonstration</td>\n",
       "      <td>none</td>\n",
       "      <td>8,9,11</td>\n",
       "      <td>2.0</td>\n",
       "      <td>-0.5</td>\n",
       "      <td>0.650000</td>\n",
       "      <td>0.350000</td>\n",
       "    </tr>\n",
       "    <tr>\n",
       "      <th>127945</th>\n",
       "      <td>148847</td>\n",
       "      <td>38</td>\n",
       "      <td>PandaReach-v3</td>\n",
       "      <td>CustomReachEnv3</td>\n",
       "      <td>1.0</td>\n",
       "      <td>6,10,10</td>\n",
       "      <td>2023-08-10 16:30:02.316689</td>\n",
       "      <td>2171.0</td>\n",
       "      <td>154.0</td>\n",
       "      <td>demonstration</td>\n",
       "      <td>none</td>\n",
       "      <td>8,9,11</td>\n",
       "      <td>2.0</td>\n",
       "      <td>-1.0</td>\n",
       "      <td>0.225000</td>\n",
       "      <td>0.775000</td>\n",
       "    </tr>\n",
       "  </tbody>\n",
       "</table>\n",
       "<p>7546 rows × 16 columns</p>\n",
       "</div>"
      ],
      "text/plain": [
       "         index  Participant_id      Game_name        Task_name  Game_num  \\\n",
       "587       2097               1  PandaReach-v3  CustomReachEnv1       2.0   \n",
       "588       2098               1  PandaReach-v3  CustomReachEnv1       2.0   \n",
       "589       2099               1  PandaReach-v3  CustomReachEnv1       2.0   \n",
       "590       2100               1  PandaReach-v3  CustomReachEnv1       2.0   \n",
       "591       2101               1  PandaReach-v3  CustomReachEnv1       2.0   \n",
       "...        ...             ...            ...              ...       ...   \n",
       "127941  148843              38  PandaReach-v3  CustomReachEnv3       1.0   \n",
       "127942  148844              38  PandaReach-v3  CustomReachEnv3       1.0   \n",
       "127943  148845              38  PandaReach-v3  CustomReachEnv3       1.0   \n",
       "127944  148846              38  PandaReach-v3  CustomReachEnv3       1.0   \n",
       "127945  148847              38  PandaReach-v3  CustomReachEnv3       1.0   \n",
       "\n",
       "       Starting_position                   Timestamp  Time_step  Elapsed_time  \\\n",
       "587              10,8,11  2023-08-07 22:59:08.256295      676.0          58.0   \n",
       "588              10,8,11  2023-08-07 22:59:08.761404      689.0          59.0   \n",
       "589              10,8,11  2023-08-07 22:59:09.039373      696.0          59.0   \n",
       "590              10,8,11  2023-08-07 22:59:09.661600      712.0          59.0   \n",
       "591              10,8,11  2023-08-07 22:59:10.840359      742.0          61.0   \n",
       "...                  ...                         ...        ...           ...   \n",
       "127941           6,10,10  2023-08-10 16:29:54.273715     2037.0         146.0   \n",
       "127942           6,10,10  2023-08-10 16:29:54.728281     2045.0         146.0   \n",
       "127943           6,10,10  2023-08-10 16:30:01.513622     2158.0         153.0   \n",
       "127944           6,10,10  2023-08-10 16:30:01.819464     2163.0         153.0   \n",
       "127945           6,10,10  2023-08-10 16:30:02.316689     2171.0         154.0   \n",
       "\n",
       "       Type_of_intervention Human_feedback   State  Action  Reward    Q(s,a)  \\\n",
       "587           demonstration           none   9,4,9     4.0    -1.0 -0.548281   \n",
       "588           demonstration           none  10,5,9     4.0    -1.0 -0.857825   \n",
       "589           demonstration           none  10,5,9     4.0    -1.0 -0.528912   \n",
       "590           demonstration           none  10,5,9     4.0    -1.0 -0.364456   \n",
       "591           demonstration           none  10,5,9     1.0    -1.0 -1.489954   \n",
       "...                     ...            ...     ...     ...     ...       ...   \n",
       "127941        demonstration           none  8,9,11     1.0    -0.5  0.350000   \n",
       "127942        demonstration           none  8,9,11     1.0    -0.5  0.325000   \n",
       "127943        demonstration           none  9,9,11     2.0    -0.5  0.650000   \n",
       "127944        demonstration           none  8,9,11     2.0    -0.5  0.650000   \n",
       "127945        demonstration           none  8,9,11     2.0    -1.0  0.225000   \n",
       "\n",
       "        Advantage  \n",
       "587      1.548281  \n",
       "588      1.857825  \n",
       "589      1.528912  \n",
       "590      1.364456  \n",
       "591      1.125498  \n",
       "...           ...  \n",
       "127941   0.650000  \n",
       "127942   0.675000  \n",
       "127943   0.350000  \n",
       "127944   0.350000  \n",
       "127945   0.775000  \n",
       "\n",
       "[7546 rows x 16 columns]"
      ]
     },
     "execution_count": 160,
     "metadata": {},
     "output_type": "execute_result"
    }
   ],
   "source": [
    "data[data['Type_of_intervention'] == 'demonstration']"
   ]
  },
  {
   "cell_type": "code",
   "execution_count": 164,
   "id": "9c856336-a944-4025-baf8-bd22be1c9182",
   "metadata": {
    "tags": []
   },
   "outputs": [
    {
     "data": {
      "text/html": [
       "<div>\n",
       "<style scoped>\n",
       "    .dataframe tbody tr th:only-of-type {\n",
       "        vertical-align: middle;\n",
       "    }\n",
       "\n",
       "    .dataframe tbody tr th {\n",
       "        vertical-align: top;\n",
       "    }\n",
       "\n",
       "    .dataframe thead th {\n",
       "        text-align: right;\n",
       "    }\n",
       "</style>\n",
       "<table border=\"1\" class=\"dataframe\">\n",
       "  <thead>\n",
       "    <tr style=\"text-align: right;\">\n",
       "      <th></th>\n",
       "      <th>Participant_id</th>\n",
       "      <th>Task_name</th>\n",
       "      <th>Game_num</th>\n",
       "      <th>First_demo_time</th>\n",
       "    </tr>\n",
       "  </thead>\n",
       "  <tbody>\n",
       "    <tr>\n",
       "      <th>0</th>\n",
       "      <td>1</td>\n",
       "      <td>CustomReachEnv1</td>\n",
       "      <td>2.0</td>\n",
       "      <td>58.0</td>\n",
       "    </tr>\n",
       "    <tr>\n",
       "      <th>1</th>\n",
       "      <td>1</td>\n",
       "      <td>CustomReachEnv2</td>\n",
       "      <td>1.0</td>\n",
       "      <td>46.0</td>\n",
       "    </tr>\n",
       "    <tr>\n",
       "      <th>2</th>\n",
       "      <td>1</td>\n",
       "      <td>CustomReachEnv3</td>\n",
       "      <td>1.0</td>\n",
       "      <td>48.0</td>\n",
       "    </tr>\n",
       "    <tr>\n",
       "      <th>3</th>\n",
       "      <td>2</td>\n",
       "      <td>CustomReachEnv1</td>\n",
       "      <td>1.0</td>\n",
       "      <td>48.0</td>\n",
       "    </tr>\n",
       "    <tr>\n",
       "      <th>4</th>\n",
       "      <td>2</td>\n",
       "      <td>CustomReachEnv1</td>\n",
       "      <td>2.0</td>\n",
       "      <td>50.0</td>\n",
       "    </tr>\n",
       "    <tr>\n",
       "      <th>...</th>\n",
       "      <td>...</td>\n",
       "      <td>...</td>\n",
       "      <td>...</td>\n",
       "      <td>...</td>\n",
       "    </tr>\n",
       "    <tr>\n",
       "      <th>144</th>\n",
       "      <td>37</td>\n",
       "      <td>CustomReachEnv2</td>\n",
       "      <td>1.0</td>\n",
       "      <td>93.0</td>\n",
       "    </tr>\n",
       "    <tr>\n",
       "      <th>145</th>\n",
       "      <td>38</td>\n",
       "      <td>CustomReachEnv1</td>\n",
       "      <td>1.0</td>\n",
       "      <td>46.0</td>\n",
       "    </tr>\n",
       "    <tr>\n",
       "      <th>146</th>\n",
       "      <td>38</td>\n",
       "      <td>CustomReachEnv2</td>\n",
       "      <td>1.0</td>\n",
       "      <td>81.0</td>\n",
       "    </tr>\n",
       "    <tr>\n",
       "      <th>147</th>\n",
       "      <td>38</td>\n",
       "      <td>CustomReachEnv2</td>\n",
       "      <td>3.0</td>\n",
       "      <td>15.0</td>\n",
       "    </tr>\n",
       "    <tr>\n",
       "      <th>148</th>\n",
       "      <td>38</td>\n",
       "      <td>CustomReachEnv3</td>\n",
       "      <td>1.0</td>\n",
       "      <td>62.0</td>\n",
       "    </tr>\n",
       "  </tbody>\n",
       "</table>\n",
       "<p>149 rows × 4 columns</p>\n",
       "</div>"
      ],
      "text/plain": [
       "     Participant_id        Task_name  Game_num  First_demo_time\n",
       "0                 1  CustomReachEnv1       2.0             58.0\n",
       "1                 1  CustomReachEnv2       1.0             46.0\n",
       "2                 1  CustomReachEnv3       1.0             48.0\n",
       "3                 2  CustomReachEnv1       1.0             48.0\n",
       "4                 2  CustomReachEnv1       2.0             50.0\n",
       "..              ...              ...       ...              ...\n",
       "144              37  CustomReachEnv2       1.0             93.0\n",
       "145              38  CustomReachEnv1       1.0             46.0\n",
       "146              38  CustomReachEnv2       1.0             81.0\n",
       "147              38  CustomReachEnv2       3.0             15.0\n",
       "148              38  CustomReachEnv3       1.0             62.0\n",
       "\n",
       "[149 rows x 4 columns]"
      ]
     },
     "execution_count": 164,
     "metadata": {},
     "output_type": "execute_result"
    }
   ],
   "source": [
    "demonstration_df = data[data['Type_of_intervention'] == 'demonstration']\n",
    "first_demo_times = demonstration_df.groupby(['Participant_id', 'Task_name', 'Game_num'])['Elapsed_time'].min().reset_index()\n",
    "first_demo_times.columns = ['Participant_id', 'Task_name', 'Game_num', 'First_demo_time']\n",
    "\n",
    "first_demo_times"
   ]
  },
  {
   "cell_type": "code",
   "execution_count": 177,
   "id": "3052d0b7-652c-4c9d-a3ec-c431f67fa802",
   "metadata": {
    "tags": []
   },
   "outputs": [
    {
     "data": {
      "text/html": [
       "<div>\n",
       "<style scoped>\n",
       "    .dataframe tbody tr th:only-of-type {\n",
       "        vertical-align: middle;\n",
       "    }\n",
       "\n",
       "    .dataframe tbody tr th {\n",
       "        vertical-align: top;\n",
       "    }\n",
       "\n",
       "    .dataframe thead th {\n",
       "        text-align: right;\n",
       "    }\n",
       "</style>\n",
       "<table border=\"1\" class=\"dataframe\">\n",
       "  <thead>\n",
       "    <tr style=\"text-align: right;\">\n",
       "      <th></th>\n",
       "      <th>Task_name</th>\n",
       "      <th>Participant_id</th>\n",
       "      <th>First_demo_time</th>\n",
       "    </tr>\n",
       "  </thead>\n",
       "  <tbody>\n",
       "    <tr>\n",
       "      <th>0</th>\n",
       "      <td>CustomReachEnv1</td>\n",
       "      <td>18.545455</td>\n",
       "      <td>43.386364</td>\n",
       "    </tr>\n",
       "    <tr>\n",
       "      <th>1</th>\n",
       "      <td>CustomReachEnv2</td>\n",
       "      <td>19.275000</td>\n",
       "      <td>42.550000</td>\n",
       "    </tr>\n",
       "    <tr>\n",
       "      <th>2</th>\n",
       "      <td>CustomReachEnv3</td>\n",
       "      <td>17.452381</td>\n",
       "      <td>53.071429</td>\n",
       "    </tr>\n",
       "  </tbody>\n",
       "</table>\n",
       "</div>"
      ],
      "text/plain": [
       "         Task_name  Participant_id  First_demo_time\n",
       "0  CustomReachEnv1       18.545455        43.386364\n",
       "1  CustomReachEnv2       19.275000        42.550000\n",
       "2  CustomReachEnv3       17.452381        53.071429"
      ]
     },
     "execution_count": 177,
     "metadata": {},
     "output_type": "execute_result"
    }
   ],
   "source": [
    "feedback_df = data[data['Type_of_intervention'] == 'feedback']\n",
    "first_feedback_times = feedback_df.groupby(['Participant_id', 'Task_name', 'Game_num'])['Elapsed_time'].min().reset_index()\n",
    "first_feedback_times.columns = ['Participant_id', 'Task_name', 'Game_num', 'First_demo_time']\n",
    "\n",
    "first_feedback_times.groupby(['Task_name'])[['Participant_id', 'First_demo_time']].mean().reset_index()"
   ]
  },
  {
   "cell_type": "code",
   "execution_count": null,
   "id": "3b315b01-863e-439d-aeaf-05314f366dd0",
   "metadata": {},
   "outputs": [],
   "source": []
  }
 ],
 "metadata": {
  "colab": {
   "provenance": []
  },
  "kernelspec": {
   "display_name": "Python 3 (ipykernel)",
   "language": "python",
   "name": "python3"
  },
  "language_info": {
   "codemirror_mode": {
    "name": "ipython",
    "version": 3
   },
   "file_extension": ".py",
   "mimetype": "text/x-python",
   "name": "python",
   "nbconvert_exporter": "python",
   "pygments_lexer": "ipython3",
   "version": "3.11.4"
  }
 },
 "nbformat": 4,
 "nbformat_minor": 5
}
