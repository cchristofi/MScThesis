{
  "cells": [
    {
      "cell_type": "code",
      "execution_count": null,
      "id": "0f128d52-7b8a-4946-b606-43b2158161a7",
      "metadata": {
        "id": "0f128d52-7b8a-4946-b606-43b2158161a7"
      },
      "outputs": [],
      "source": [
        "import numpy as np\n",
        "import pandas as pd\n",
        "import seaborn as sns\n",
        "import matplotlib.pyplot as plt"
      ]
    },
    {
      "cell_type": "code",
      "execution_count": null,
      "id": "c1f54943-00d0-4e26-aeef-731ee2e79a2d",
      "metadata": {
        "id": "c1f54943-00d0-4e26-aeef-731ee2e79a2d"
      },
      "outputs": [],
      "source": [
        "robot_data = pd.read_csv(\"Final_robot_data.csv\")\n",
        "robot_data = robot_data.query('Task_name != \"CustomReachEnv0\"')\n",
        "robot_data = robot_data.drop('Unnamed: 0', axis=1)"
      ]
    },
    {
      "cell_type": "code",
      "execution_count": null,
      "id": "e6a1c96b-321e-4475-96f8-bfcdd3b9fdc8",
      "metadata": {
        "id": "e6a1c96b-321e-4475-96f8-bfcdd3b9fdc8"
      },
      "outputs": [],
      "source": [
        "robot_data = robot_data.query('Participant_id <= 30').copy()"
      ]
    },
    {
      "cell_type": "code",
      "execution_count": null,
      "id": "6394cd09-41d1-4a0a-a636-cc6dd4750e09",
      "metadata": {
        "id": "6394cd09-41d1-4a0a-a636-cc6dd4750e09"
      },
      "outputs": [],
      "source": [
        "robot_data = robot_data.drop(['Participant_id', 'Game_name', 'Timestamp', 'Human_feedback', 'Starting_position'], axis=1)\n",
        "robot_data = robot_data.loc[~robot_data.State.str.contains('invalid'), :]"
      ]
    },
    {
      "cell_type": "code",
      "execution_count": null,
      "id": "9b106eb9-a950-43c2-8764-689d7ec353be",
      "metadata": {
        "id": "9b106eb9-a950-43c2-8764-689d7ec353be"
      },
      "outputs": [],
      "source": [
        "task1 = robot_data.query('Task_name == \"CustomReachEnv1\"').copy()"
      ]
    },
    {
      "cell_type": "code",
      "execution_count": null,
      "id": "cc22ef2b-88df-4715-8f9a-cab9e7666d69",
      "metadata": {
        "id": "cc22ef2b-88df-4715-8f9a-cab9e7666d69"
      },
      "outputs": [],
      "source": [
        "robot_data[['State_x', 'State_y', 'State_z']] = [[int(s[0]), int(s[1]), int(s[2])] for s in robot_data['State'].str.split(',')]\n",
        "robot_data = robot_data.drop('State', axis=1)"
      ]
    },
    {
      "cell_type": "code",
      "execution_count": null,
      "id": "3498b1e6-56b5-49e5-8de8-602d81c20b0d",
      "metadata": {
        "id": "3498b1e6-56b5-49e5-8de8-602d81c20b0d"
      },
      "outputs": [],
      "source": [
        "robot_data['Task_name'] = robot_data.Task_name.map({\"CustomReachEnv1\": 1, \"CustomReachEnv2\": 2, \"CustomReachEnv3\": 3})"
      ]
    },
    {
      "cell_type": "code",
      "execution_count": null,
      "id": "105c288b-1c49-4791-b2a6-947b38af64b1",
      "metadata": {
        "id": "105c288b-1c49-4791-b2a6-947b38af64b1"
      },
      "outputs": [],
      "source": [
        "X_train = robot_data.query('Game_num < 4').copy()\n",
        "X_test = robot_data.query('Game_num >= 4').copy()"
      ]
    },
    {
      "cell_type": "code",
      "execution_count": null,
      "id": "4f5c484b-7eb8-4c35-98ae-e8d01965cb42",
      "metadata": {
        "id": "4f5c484b-7eb8-4c35-98ae-e8d01965cb42"
      },
      "outputs": [],
      "source": [
        "Y_train = X_train['Type_of_intervention'].copy().map({\"None\": 0, \"demonstration\": 1, \"feedback\": 1})\n",
        "# Y_train = Y_train.reset_index()\n",
        "X_train = X_train.drop(['Type_of_intervention'], axis=1)\n",
        "\n",
        "Y_test = X_test['Type_of_intervention'].copy().map({\"None\": 0, \"demonstration\": 1, \"feedback\": 1})\n",
        "# Y_test = Y_test.reset_index()\n",
        "X_test = X_test.drop(['Type_of_intervention'], axis=1)"
      ]
    },
    {
      "cell_type": "code",
      "execution_count": null,
      "id": "415e6d73-1261-4995-88b2-ef258c5dbce8",
      "metadata": {
        "tags": [],
        "id": "415e6d73-1261-4995-88b2-ef258c5dbce8",
        "outputId": "6d663e0d-6e7d-42b9-d19f-220f69ff34b4"
      },
      "outputs": [
        {
          "data": {
            "text/html": [
              "<div>\n",
              "<style scoped>\n",
              "    .dataframe tbody tr th:only-of-type {\n",
              "        vertical-align: middle;\n",
              "    }\n",
              "\n",
              "    .dataframe tbody tr th {\n",
              "        vertical-align: top;\n",
              "    }\n",
              "\n",
              "    .dataframe thead th {\n",
              "        text-align: right;\n",
              "    }\n",
              "</style>\n",
              "<table border=\"1\" class=\"dataframe\">\n",
              "  <thead>\n",
              "    <tr style=\"text-align: right;\">\n",
              "      <th></th>\n",
              "      <th>index</th>\n",
              "      <th>Type_of_intervention</th>\n",
              "    </tr>\n",
              "  </thead>\n",
              "  <tbody>\n",
              "    <tr>\n",
              "      <th>292</th>\n",
              "      <td>292</td>\n",
              "      <td>feedback</td>\n",
              "    </tr>\n",
              "    <tr>\n",
              "      <th>293</th>\n",
              "      <td>293</td>\n",
              "      <td>feedback</td>\n",
              "    </tr>\n",
              "    <tr>\n",
              "      <th>294</th>\n",
              "      <td>294</td>\n",
              "      <td>feedback</td>\n",
              "    </tr>\n",
              "    <tr>\n",
              "      <th>295</th>\n",
              "      <td>295</td>\n",
              "      <td>feedback</td>\n",
              "    </tr>\n",
              "    <tr>\n",
              "      <th>296</th>\n",
              "      <td>296</td>\n",
              "      <td>feedback</td>\n",
              "    </tr>\n",
              "    <tr>\n",
              "      <th>...</th>\n",
              "      <td>...</td>\n",
              "      <td>...</td>\n",
              "    </tr>\n",
              "    <tr>\n",
              "      <th>94787</th>\n",
              "      <td>101255</td>\n",
              "      <td>feedback</td>\n",
              "    </tr>\n",
              "    <tr>\n",
              "      <th>94788</th>\n",
              "      <td>101256</td>\n",
              "      <td>feedback</td>\n",
              "    </tr>\n",
              "    <tr>\n",
              "      <th>94789</th>\n",
              "      <td>101257</td>\n",
              "      <td>feedback</td>\n",
              "    </tr>\n",
              "    <tr>\n",
              "      <th>94790</th>\n",
              "      <td>101258</td>\n",
              "      <td>feedback</td>\n",
              "    </tr>\n",
              "    <tr>\n",
              "      <th>94791</th>\n",
              "      <td>101259</td>\n",
              "      <td>feedback</td>\n",
              "    </tr>\n",
              "  </tbody>\n",
              "</table>\n",
              "<p>10630 rows × 2 columns</p>\n",
              "</div>"
            ],
            "text/plain": [
              "        index Type_of_intervention\n",
              "292       292             feedback\n",
              "293       293             feedback\n",
              "294       294             feedback\n",
              "295       295             feedback\n",
              "296       296             feedback\n",
              "...       ...                  ...\n",
              "94787  101255             feedback\n",
              "94788  101256             feedback\n",
              "94789  101257             feedback\n",
              "94790  101258             feedback\n",
              "94791  101259             feedback\n",
              "\n",
              "[10630 rows x 2 columns]"
            ]
          },
          "execution_count": 35,
          "metadata": {},
          "output_type": "execute_result"
        }
      ],
      "source": [
        "Y_train.reset_index().query('Type_of_intervention == \"feedback\"')"
      ]
    },
    {
      "cell_type": "markdown",
      "id": "c444a771-e1f3-415b-8623-60f8f662b24e",
      "metadata": {
        "id": "c444a771-e1f3-415b-8623-60f8f662b24e"
      },
      "source": [
        "# Train"
      ]
    },
    {
      "cell_type": "code",
      "execution_count": null,
      "id": "a33ea5c6-4586-411a-917d-756e7dd46dac",
      "metadata": {
        "id": "a33ea5c6-4586-411a-917d-756e7dd46dac"
      },
      "outputs": [],
      "source": [
        "from sklearn.linear_model import LogisticRegression, RidgeClassifier\n",
        "from sklearn.ensemble import RandomForestClassifier, GradientBoostingClassifier\n",
        "from sklearn.tree import DecisionTreeClassifier\n",
        "from sklearn.metrics import accuracy_score, confusion_matrix"
      ]
    },
    {
      "cell_type": "code",
      "execution_count": null,
      "id": "a1d90322-1481-4919-890b-6b5cc6995c3d",
      "metadata": {
        "id": "a1d90322-1481-4919-890b-6b5cc6995c3d"
      },
      "outputs": [],
      "source": [
        "lg = DecisionTreeClassifier(splitter='best').fit(X_train, Y_train)"
      ]
    },
    {
      "cell_type": "code",
      "execution_count": null,
      "id": "a8c69f60-2db1-4acf-91c2-010b72d3a2d3",
      "metadata": {
        "id": "a8c69f60-2db1-4acf-91c2-010b72d3a2d3"
      },
      "outputs": [],
      "source": [
        "predicted = lg.predict(X_test)"
      ]
    },
    {
      "cell_type": "code",
      "execution_count": null,
      "id": "a780105a-de98-4230-ad31-4d8a3e1061e0",
      "metadata": {
        "id": "a780105a-de98-4230-ad31-4d8a3e1061e0"
      },
      "outputs": [],
      "source": [
        "predicted[0], predicted[224], predicted[6424]"
      ]
    },
    {
      "cell_type": "code",
      "execution_count": null,
      "id": "eaab3fe8-d66d-4086-b73a-df120685a208",
      "metadata": {
        "id": "eaab3fe8-d66d-4086-b73a-df120685a208",
        "outputId": "092cbcf8-b977-47ab-bb19-b3e5a8b21817"
      },
      "outputs": [
        {
          "data": {
            "text/plain": [
              "0.7691356115664141"
            ]
          },
          "execution_count": 158,
          "metadata": {},
          "output_type": "execute_result"
        }
      ],
      "source": [
        "accuracy_score(Y_test, predicted)"
      ]
    },
    {
      "cell_type": "code",
      "execution_count": null,
      "id": "49401128-8fc8-4108-aa39-cc6cadce4ba2",
      "metadata": {
        "id": "49401128-8fc8-4108-aa39-cc6cadce4ba2"
      },
      "outputs": [],
      "source": [
        "X_test.groupby('Task_name').Game_num.value_counts()"
      ]
    },
    {
      "cell_type": "code",
      "execution_count": null,
      "id": "41d08801-ac9b-44a1-b66d-8d4158ab5a88",
      "metadata": {
        "id": "41d08801-ac9b-44a1-b66d-8d4158ab5a88",
        "outputId": "9f2ea46a-f2da-4969-9c70-546b44f866e5"
      },
      "outputs": [
        {
          "data": {
            "text/plain": [
              "0    5553\n",
              "1     914\n",
              "Name: Type_of_intervention, dtype: int64"
            ]
          },
          "execution_count": 153,
          "metadata": {},
          "output_type": "execute_result"
        }
      ],
      "source": [
        "Y_test.value_counts()"
      ]
    },
    {
      "cell_type": "code",
      "execution_count": null,
      "id": "4b49fbdd-a95f-4903-8a9d-a899cba55d4c",
      "metadata": {
        "id": "4b49fbdd-a95f-4903-8a9d-a899cba55d4c",
        "outputId": "e7e66094-b7c5-4e54-e6e9-1bed0d2beb6c"
      },
      "outputs": [
        {
          "data": {
            "text/plain": [
              "0    5488\n",
              "1     979\n",
              "dtype: int64"
            ]
          },
          "execution_count": 159,
          "metadata": {},
          "output_type": "execute_result"
        }
      ],
      "source": [
        "pd.Series(predicted).value_counts()"
      ]
    },
    {
      "cell_type": "code",
      "execution_count": null,
      "id": "5ec00eb6-e1b5-404c-8717-bcf5dc9de506",
      "metadata": {
        "tags": [],
        "id": "5ec00eb6-e1b5-404c-8717-bcf5dc9de506",
        "outputId": "4908469f-10d1-4382-a769-7a1400e5b6f8"
      },
      "outputs": [
        {
          "data": {
            "text/plain": [
              "<Axes: >"
            ]
          },
          "execution_count": 160,
          "metadata": {},
          "output_type": "execute_result"
        },
        {
          "data": {
            "image/png": "[encoded data removed]",
            "text/plain": [
              "<Figure size 640x480 with 2 Axes>"
            ]
          },
          "metadata": {},
          "output_type": "display_data"
        }
      ],
      "source": [
        "sns.heatmap(confusion_matrix(Y_test, predicted), annot=True, fmt='g')"
      ]
    },
    {
      "cell_type": "code",
      "execution_count": null,
      "id": "2cec8bcd-f142-4749-83b3-1b99f0250f5a",
      "metadata": {
        "id": "2cec8bcd-f142-4749-83b3-1b99f0250f5a"
      },
      "outputs": [],
      "source": [
        "Y_train.value_counts()"
      ]
    },
    {
      "cell_type": "code",
      "execution_count": null,
      "id": "4b4de313-f36a-4913-8659-c725c9c1b5d5",
      "metadata": {
        "id": "4b4de313-f36a-4913-8659-c725c9c1b5d5"
      },
      "outputs": [],
      "source": [
        "coefs = pd.DataFrame([lg.feature_importances_], columns = X_train.columns)"
      ]
    },
    {
      "cell_type": "code",
      "execution_count": null,
      "id": "73b58444-3484-434b-8041-2c4a3e3cecfa",
      "metadata": {
        "id": "73b58444-3484-434b-8041-2c4a3e3cecfa",
        "outputId": "923d74b7-e025-4111-ad28-43c62b1cede4"
      },
      "outputs": [
        {
          "data": {
            "text/html": [
              "<div>\n",
              "<style scoped>\n",
              "    .dataframe tbody tr th:only-of-type {\n",
              "        vertical-align: middle;\n",
              "    }\n",
              "\n",
              "    .dataframe tbody tr th {\n",
              "        vertical-align: top;\n",
              "    }\n",
              "\n",
              "    .dataframe thead th {\n",
              "        text-align: right;\n",
              "    }\n",
              "</style>\n",
              "<table border=\"1\" class=\"dataframe\">\n",
              "  <thead>\n",
              "    <tr style=\"text-align: right;\">\n",
              "      <th></th>\n",
              "      <th>0</th>\n",
              "    </tr>\n",
              "  </thead>\n",
              "  <tbody>\n",
              "    <tr>\n",
              "      <th>Time_step</th>\n",
              "      <td>0.322653</td>\n",
              "    </tr>\n",
              "    <tr>\n",
              "      <th>Task_elapsed_time</th>\n",
              "      <td>0.124381</td>\n",
              "    </tr>\n",
              "    <tr>\n",
              "      <th>Advantage</th>\n",
              "      <td>0.113409</td>\n",
              "    </tr>\n",
              "    <tr>\n",
              "      <th>Q(s,a)</th>\n",
              "      <td>0.109748</td>\n",
              "    </tr>\n",
              "    <tr>\n",
              "      <th>Game_elapsed_time</th>\n",
              "      <td>0.106707</td>\n",
              "    </tr>\n",
              "    <tr>\n",
              "      <th>State_y</th>\n",
              "      <td>0.064839</td>\n",
              "    </tr>\n",
              "    <tr>\n",
              "      <th>State_x</th>\n",
              "      <td>0.060402</td>\n",
              "    </tr>\n",
              "    <tr>\n",
              "      <th>Task_name</th>\n",
              "      <td>0.033911</td>\n",
              "    </tr>\n",
              "    <tr>\n",
              "      <th>Action</th>\n",
              "      <td>0.027244</td>\n",
              "    </tr>\n",
              "    <tr>\n",
              "      <th>State_z</th>\n",
              "      <td>0.021326</td>\n",
              "    </tr>\n",
              "    <tr>\n",
              "      <th>Game_num</th>\n",
              "      <td>0.014031</td>\n",
              "    </tr>\n",
              "    <tr>\n",
              "      <th>Reward</th>\n",
              "      <td>0.001349</td>\n",
              "    </tr>\n",
              "  </tbody>\n",
              "</table>\n",
              "</div>"
            ],
            "text/plain": [
              "                          0\n",
              "Time_step          0.322653\n",
              "Task_elapsed_time  0.124381\n",
              "Advantage          0.113409\n",
              "Q(s,a)             0.109748\n",
              "Game_elapsed_time  0.106707\n",
              "State_y            0.064839\n",
              "State_x            0.060402\n",
              "Task_name          0.033911\n",
              "Action             0.027244\n",
              "State_z            0.021326\n",
              "Game_num           0.014031\n",
              "Reward             0.001349"
            ]
          },
          "execution_count": 79,
          "metadata": {},
          "output_type": "execute_result"
        }
      ],
      "source": [
        "coefs.T.sort_values(by=0, key=lambda x: abs(x), ascending=False)"
      ]
    },
    {
      "cell_type": "code",
      "execution_count": null,
      "id": "432e58fd-bfd7-4b6e-badc-15fc29aace7f",
      "metadata": {
        "id": "432e58fd-bfd7-4b6e-badc-15fc29aace7f"
      },
      "outputs": [],
      "source": []
    }
  ],
  "metadata": {
    "kernelspec": {
      "display_name": "Python 3 (ipykernel)",
      "language": "python",
      "name": "python3"
    },
    "language_info": {
      "codemirror_mode": {
        "name": "ipython",
        "version": 3
      },
      "file_extension": ".py",
      "mimetype": "text/x-python",
      "name": "python",
      "nbconvert_exporter": "python",
      "pygments_lexer": "ipython3",
      "version": "3.11.4"
    },
    "colab": {
      "provenance": []
    }
  },
  "nbformat": 4,
  "nbformat_minor": 5
}